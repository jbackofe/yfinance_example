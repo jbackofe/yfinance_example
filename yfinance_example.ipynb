{
 "cells": [
  {
   "cell_type": "code",
   "execution_count": 13,
   "id": "61f805e4",
   "metadata": {},
   "outputs": [],
   "source": [
    "import os\n",
    "import json\n",
    "\n",
    "f = open('config.json')\n",
    "config = json.load(f)\n",
    "\n",
    "os.environ['AWS_ACCESS_KEY_ID'] = config['AWS_ACCESS_KEY_ID']\n",
    "os.environ['AWS_SECRET_ACCESS_KEY'] = config['AWS_SECRET_ACCESS_KEY']\n",
    "os.environ['AWS_DEFAULT_REGION'] = config['AWS_DEFAULT_REGION']"
   ]
  },
  {
   "cell_type": "code",
   "execution_count": 9,
   "id": "1da19c1e",
   "metadata": {},
   "outputs": [],
   "source": [
    "import yfinance as yf\n",
    "import pandas as pd\n",
    "import boto3\n",
    "import awswrangler as wr\n",
    "import datetime"
   ]
  },
  {
   "cell_type": "code",
   "execution_count": 10,
   "id": "8a4da32f",
   "metadata": {},
   "outputs": [],
   "source": [
    "tickers = yf.Tickers('MSFT META')\n",
    "\n",
    "histories = []\n",
    "for symb in tickers.tickers:\n",
    "    daily = tickers.tickers[symb].history(period=\"1d\")\n",
    "    daily['Ticker'] = symb\n",
    "    daily = daily.reset_index()\n",
    "    daily['Date'] = daily['Date'].dt.to_pydatetime()[0].strftime(\"%Y-%m-%d\")\n",
    "    daily = daily[['Ticker', 'Open', 'High', 'Low', 'Close', 'Volume', 'Date']]\n",
    "    histories.append(daily)\n",
    "    \n",
    "data = pd.concat(histories)"
   ]
  },
  {
   "cell_type": "code",
   "execution_count": 14,
   "id": "fe4e233b",
   "metadata": {},
   "outputs": [
    {
     "data": {
      "text/plain": [
       "{'paths': ['s3://yfinance-test/daily/2022-10-30ac2fc67a4d324c5c9182073e25663062.snappy.parquet'],\n",
       " 'partitions_values': {}}"
      ]
     },
     "execution_count": 14,
     "metadata": {},
     "output_type": "execute_result"
    }
   ],
   "source": [
    "todays_date = datetime.datetime.today().strftime(\"%Y-%m-%d\")\n",
    "\n",
    "# Storing data on Data Lake\n",
    "wr.s3.to_parquet(\n",
    "    df=data.copy(),\n",
    "    path=\"s3://yfinance-test/daily/\",\n",
    "    dataset=True,\n",
    "    database=\"yfinance\",\n",
    "    table=\"history_daily\",\n",
    "    filename_prefix=todays_date\n",
    ")"
   ]
  },
  {
   "cell_type": "code",
   "execution_count": null,
   "id": "9c3f261d",
   "metadata": {},
   "outputs": [],
   "source": []
  }
 ],
 "metadata": {
  "kernelspec": {
   "display_name": "Python 3 (ipykernel)",
   "language": "python",
   "name": "python3"
  },
  "language_info": {
   "codemirror_mode": {
    "name": "ipython",
    "version": 3
   },
   "file_extension": ".py",
   "mimetype": "text/x-python",
   "name": "python",
   "nbconvert_exporter": "python",
   "pygments_lexer": "ipython3",
   "version": "3.9.12"
  }
 },
 "nbformat": 4,
 "nbformat_minor": 5
}
